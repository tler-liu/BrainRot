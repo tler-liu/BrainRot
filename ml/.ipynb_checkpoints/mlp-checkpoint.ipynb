{
 "cells": [
  {
   "cell_type": "code",
   "execution_count": 7,
   "id": "f3d6863c-cd22-43ff-9a0a-1bf0cab4aa06",
   "metadata": {},
   "outputs": [],
   "source": [
    "# use the MLP architecture to generate new Gen-Z slang"
   ]
  },
  {
   "cell_type": "code",
   "execution_count": 19,
   "id": "7048232a-399c-4ac9-906f-66f8c6ca9ea0",
   "metadata": {},
   "outputs": [
    {
     "name": "stderr",
     "output_type": "stream",
     "text": [
      "Matplotlib is building the font cache; this may take a moment.\n"
     ]
    }
   ],
   "source": [
    "import torch\n",
    "from torch.nn import functional as F\n",
    "import matplotlib.pyplot as plt"
   ]
  },
  {
   "cell_type": "code",
   "execution_count": 72,
   "id": "e21ac64d-39df-44bf-b179-72ce43749143",
   "metadata": {},
   "outputs": [],
   "source": [
    "# extract words from file\n",
    "f = open(\"./data/gen_zz_words.csv\", \"r\")\n",
    "data = f.readlines()\n",
    "data = data[1:]\n",
    "words = [line.split(',')[0].lower() for line in data]\n",
    "chars = sorted(list(set(''.join(words))))\n",
    "vocab_size = len(chars) + 1"
   ]
  },
  {
   "cell_type": "code",
   "execution_count": 56,
   "id": "04cd0c91-8491-4c58-b1d5-6f0924f61501",
   "metadata": {},
   "outputs": [
    {
     "data": {
      "text/plain": [
       "27"
      ]
     },
     "execution_count": 56,
     "metadata": {},
     "output_type": "execute_result"
    }
   ],
   "source": [
    "f2 = open(\"./data/names.txt\", \"r\")\n",
    "data = f2.readlines()\n",
    "data = [line.strip() for line in data]\n",
    "chars = sorted(list(set(''.join(data))))\n",
    "words = data\n",
    "vocab_size = len(chars) + 1\n",
    "vocab_size"
   ]
  },
  {
   "cell_type": "code",
   "execution_count": 73,
   "id": "0e080a3a-1b02-4e81-b2f5-e4a7783ce954",
   "metadata": {},
   "outputs": [
    {
     "data": {
      "text/plain": [
       "{' ': 1,\n",
       " '-': 2,\n",
       " '0': 3,\n",
       " '1': 4,\n",
       " 'a': 5,\n",
       " 'b': 6,\n",
       " 'c': 7,\n",
       " 'd': 8,\n",
       " 'e': 9,\n",
       " 'f': 10,\n",
       " 'g': 11,\n",
       " 'h': 12,\n",
       " 'i': 13,\n",
       " 'j': 14,\n",
       " 'k': 15,\n",
       " 'l': 16,\n",
       " 'm': 17,\n",
       " 'n': 18,\n",
       " 'o': 19,\n",
       " 'p': 20,\n",
       " 'r': 21,\n",
       " 's': 22,\n",
       " 't': 23,\n",
       " 'u': 24,\n",
       " 'v': 25,\n",
       " 'w': 26,\n",
       " 'x': 27,\n",
       " 'y': 28,\n",
       " 'z': 29,\n",
       " '.': 0}"
      ]
     },
     "execution_count": 73,
     "metadata": {},
     "output_type": "execute_result"
    }
   ],
   "source": [
    "# create the character map \n",
    "# use . for delimiter\n",
    "itos = {}\n",
    "stoi = {}\n",
    "for i in range(len(chars)):\n",
    "    itos[i+1] = chars[i]\n",
    "    stoi[chars[i]] = i + 1\n",
    "\n",
    "itos[0] = '.'\n",
    "stoi['.'] = 0\n",
    "stoi"
   ]
  },
  {
   "cell_type": "code",
   "execution_count": 74,
   "id": "d9581cc4-73da-4933-ab0d-1e711c1e64a6",
   "metadata": {},
   "outputs": [
    {
     "data": {
      "text/plain": [
       "(torch.Size([1092, 3]), torch.Size([1092]))"
      ]
     },
     "execution_count": 74,
     "metadata": {},
     "output_type": "execute_result"
    }
   ],
   "source": [
    "# our training, val, and test splits\n",
    "# X = array of arrays of length block_size (the contexts as integers)\n",
    "# Y = the integer representation of the target\n",
    "n = len(words)\n",
    "\n",
    "# 80, 10, 10 split\n",
    "train_data = words[:int(0.8*n)]\n",
    "val_data = words[int(0.8*n):int(0.9*n)]\n",
    "test_data = words[int(0.9 *n):]\n",
    "\n",
    "xtr, ytr = [], []\n",
    "xval, yval = [], []\n",
    "xtest, ytest = [], []\n",
    "\n",
    "block_size = 3\n",
    "for word in train_data:\n",
    "    for i, ch in enumerate(word + \".\"):\n",
    "        context = [0] * block_size\n",
    "        for j in range(-1 * block_size, 0):\n",
    "            if i + j >= 0:\n",
    "                context[j + block_size] = stoi[word[i+j]]\n",
    "\n",
    "        xtr.append(context)\n",
    "        ytr.append(stoi[ch])\n",
    "\n",
    "for word in val_data:\n",
    "    for i, ch in enumerate(word + \".\"):\n",
    "        context = [0] * block_size\n",
    "        for j in range(-1 * block_size, 0):\n",
    "            if i + j >= 0:\n",
    "                context[j + block_size] = stoi[word[i+j]]\n",
    "\n",
    "        xval.append(context)\n",
    "        yval.append(stoi[ch])\n",
    "\n",
    "for word in test_data:\n",
    "    for i, ch in enumerate(word + \".\"):\n",
    "        context = [0] * block_size\n",
    "        for j in range(-1 * block_size, 0):\n",
    "            if i + j >= 0:\n",
    "                context[j + block_size] = stoi[word[i+j]]\n",
    "\n",
    "        xtest.append(context)\n",
    "        ytest.append(stoi[ch])\n",
    "    \n",
    "\n",
    "xtr, ytr = torch.tensor(xtr), torch.tensor(ytr)\n",
    "xval, yval = torch.tensor(xval), torch.tensor(yval)\n",
    "xtest, ytest = torch.tensor(xtest), torch.tensor(ytest)\n",
    "xtr.shape, ytr.shape"
   ]
  },
  {
   "cell_type": "code",
   "execution_count": 75,
   "id": "9a53822e-524b-422d-99c3-10e7326f8a66",
   "metadata": {},
   "outputs": [
    {
     "data": {
      "text/plain": [
       "830"
      ]
     },
     "execution_count": 75,
     "metadata": {},
     "output_type": "execute_result"
    }
   ],
   "source": [
    "g = torch.Generator().manual_seed(2024)\n",
    "lower_dims = 2\n",
    "hidden_size = 20\n",
    "C = torch.randn(vocab_size, lower_dims, generator=g)\n",
    "W1 = torch.randn(block_size * lower_dims, hidden_size, generator=g)\n",
    "b1 = torch.randn(hidden_size, generator=g)\n",
    "W2 = torch.randn(hidden_size, vocab_size, generator=g)\n",
    "b2 = torch.randn(vocab_size, generator=g)\n",
    "params = [C, W1, b1, W2, b2]\n",
    "\n",
    "for p in params:\n",
    "    p.requires_grad = True\n",
    "\n",
    "sum(p.nelement() for p in params)"
   ]
  },
  {
   "cell_type": "code",
   "execution_count": 83,
   "id": "5e4bcad8-22d3-4aee-8f9e-1d13e24cdbb9",
   "metadata": {},
   "outputs": [
    {
     "name": "stdout",
     "output_type": "stream",
     "text": [
      "2.0779459476470947\n"
     ]
    }
   ],
   "source": [
    "iterations = 10000\n",
    "mini_batch_size = 50\n",
    "for _ in range(iterations):\n",
    "    # construct a minibatch\n",
    "    ix = torch.randint(0, xtr.shape[0], (mini_batch_size,), generator=g)\n",
    "    # forward pass\n",
    "    # build the embedding table (1st layer) \n",
    "    # size = len(chars) = 29 x num_dims \n",
    "    emb = C[xtr[ix]]\n",
    "    # build the hidden layer\n",
    "    h = torch.tanh(emb.view(-1, block_size * lower_dims) @ W1 + b1)\n",
    "    # build the output layer\n",
    "    logits = h @ W2 + b2\n",
    "    loss = F.cross_entropy(logits, ytr[ix])\n",
    "    \n",
    "    # backward pass\n",
    "    for p in params:\n",
    "        p.grad = None\n",
    "    \n",
    "    loss.backward()\n",
    "    lr = 0.01\n",
    "    for p in params:\n",
    "        p.data += -1 * lr * p.grad\n",
    "\n",
    "print(loss.item())"
   ]
  },
  {
   "cell_type": "code",
   "execution_count": 77,
   "id": "60ca3ecb-6699-4ba5-8189-487ce82f14af",
   "metadata": {},
   "outputs": [
    {
     "data": {
      "image/png": "[encoded data removed]",
      "text/plain": [
       "<Figure size 800x800 with 1 Axes>"
      ]
     },
     "metadata": {},
     "output_type": "display_data"
    }
   ],
   "source": [
    "# visualize embeddings \n",
    "plt.figure(figsize=(8,8))\n",
    "plt.scatter(C[:,0].data, C[:,1].data, s=200)\n",
    "for i in range(C.shape[0]):\n",
    "    plt.text(C[i,0].item(), C[i,1].item(), itos[i], ha=\"center\", va=\"center\", color='white')\n",
    "plt.grid('minor')"
   ]
  },
  {
   "cell_type": "code",
   "execution_count": 84,
   "id": "aa54c062-4943-4638-9c99-a76120202d29",
   "metadata": {},
   "outputs": [
    {
     "data": {
      "text/plain": [
       "tensor(2.2908, grad_fn=<NllLossBackward0>)"
      ]
     },
     "execution_count": 84,
     "metadata": {},
     "output_type": "execute_result"
    }
   ],
   "source": [
    "emb = C[xval]\n",
    "h = torch.tanh(emb.view(-1, block_size * lower_dims) @ W1 + b1)\n",
    "logits = h @ W2 + b2\n",
    "loss_val = F.cross_entropy(logits, yval)\n",
    "loss_val"
   ]
  },
  {
   "cell_type": "code",
   "execution_count": 86,
   "id": "55205b1a-5f58-42a9-855a-c87778cfd9ca",
   "metadata": {},
   "outputs": [
    {
     "name": "stdout",
     "output_type": "stream",
     "text": [
      "zoase.\n",
      "ghyoko.\n",
      "dhipsse.\n",
      "ame.\n",
      "siow.\n",
      "somehbeae.\n",
      "tevr-freso.\n",
      "tem.\n",
      "spllvts .\n",
      "b.\n",
      "sir.\n",
      "moree.\n",
      "wig n eas ty.\n",
      "bopdntskyo.\n",
      "rlg.\n",
      "lyp-k.\n",
      "tre.\n",
      "zoolbe-je.\n",
      "som.\n",
      "firfau.\n"
     ]
    }
   ],
   "source": [
    "# sample from model\n",
    "for i in range(20):\n",
    "    context = [0] * block_size\n",
    "    out = []\n",
    "    while True:\n",
    "        emb=C[torch.tensor([context])] # (1, block_size, d)\n",
    "        h = torch.tanh(emb.view(1, -1) @ W1 + b1)\n",
    "        logits = h @ W2 + b2\n",
    "        probs = F.softmax(logits, dim=1)\n",
    "        ix = torch.multinomial(probs, num_samples=1).item()\n",
    "        context = context[1:] + [ix]\n",
    "        out.append(itos[ix])\n",
    "        if ix == 0:\n",
    "            break\n",
    "\n",
    "    print(''.join(out))\n",
    "        "
   ]
  },
  {
   "cell_type": "code",
   "execution_count": null,
   "id": "1d88252a-5c10-4390-bb76-1bb2a3f0d443",
   "metadata": {},
   "outputs": [],
   "source": []
  }
 ],
 "metadata": {
  "kernelspec": {
   "display_name": "Python 3 (ipykernel)",
   "language": "python",
   "name": "python3"
  },
  "language_info": {
   "codemirror_mode": {
    "name": "ipython",
    "version": 3
   },
   "file_extension": ".py",
   "mimetype": "text/x-python",
   "name": "python",
   "nbconvert_exporter": "python",
   "pygments_lexer": "ipython3",
   "version": "3.11.5"
  }
 },
 "nbformat": 4,
 "nbformat_minor": 5
}
